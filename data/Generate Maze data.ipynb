{
 "cells": [
  {
   "cell_type": "code",
   "execution_count": 2,
   "metadata": {},
   "outputs": [],
   "source": [
    "import json\n",
    "import numpy as np\n",
    "import subprocess"
   ]
  },
  {
   "cell_type": "code",
   "execution_count": 55,
   "metadata": {},
   "outputs": [],
   "source": [
    "def write_array(file, array):\n",
    "    def stringify(e):\n",
    "        if isinstance(e, np.ndarray):\n",
    "            return \"[\" + (\",\".join([stringify(x) for x in e])) + \"]\"\n",
    "        else:\n",
    "            return \"{:.1f}\".format(e)\n",
    "    \n",
    "    with open(file, 'w') as f:\n",
    "        f.write(stringify(array))\n",
    "        f.close()"
   ]
  },
  {
   "cell_type": "code",
   "execution_count": 50,
   "metadata": {},
   "outputs": [],
   "source": [
    "# Uses the maze generator at https://github.com/volr/maze\n",
    "def generate_maze(depth, exit_mask, entry_mask, features):\n",
    "    command = \"maze generate {} [{}] [{}] {}\".format(depth, exit_mask, entry_mask, features)\n",
    "    (maze, _) = subprocess.Popen(command.split(' '), stdout=subprocess.PIPE).communicate()\n",
    "    return maze"
   ]
  },
  {
   "cell_type": "code",
   "execution_count": 51,
   "metadata": {},
   "outputs": [],
   "source": [
    "def maze_to_feature(maze_string):\n",
    "    maze = json.loads(maze_string)\n",
    "    left_right = 0 if (maze['left']['node']['tag'] == 'Exit') else 1\n",
    "    features = np.array(maze['left']['features'], dtype=bool).astype(int)\n",
    "    return (features, np.array(left_right))"
   ]
  },
  {
   "cell_type": "code",
   "execution_count": 56,
   "metadata": {},
   "outputs": [],
   "source": [
    "def generate_data(n, maze_depth, features):\n",
    "    data = np.array([maze_to_feature(generate_maze(maze_depth, 0, 1, features)) for _ in range(0, n)])\n",
    "    x = np.array([np.array(x, dtype=int) for x in data[:, 0]])\n",
    "    y = np.array([np.array(x, dtype=int) for x in data[:, 1]])\n",
    "    write_array(\"maze_x_n{}_features{}.txt\".format(n, features), x)\n",
    "    write_array(\"maze_y_n{}_features{}.txt\".format(n, features), y)\n",
    "\n",
    "generate_data(100, 1, 2)"
   ]
  }
 ],
 "metadata": {
  "kernelspec": {
   "display_name": "Python 3",
   "language": "python",
   "name": "python3"
  },
  "language_info": {
   "codemirror_mode": {
    "name": "ipython",
    "version": 3
   },
   "file_extension": ".py",
   "mimetype": "text/x-python",
   "name": "python",
   "nbconvert_exporter": "python",
   "pygments_lexer": "ipython3",
   "version": "3.6.4rc1"
  }
 },
 "nbformat": 4,
 "nbformat_minor": 2
}
